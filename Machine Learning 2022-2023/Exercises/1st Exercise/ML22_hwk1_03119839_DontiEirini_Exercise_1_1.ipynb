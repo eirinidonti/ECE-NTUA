{
  "nbformat": 4,
  "nbformat_minor": 0,
  "metadata": {
    "colab": {
      "provenance": []
    },
    "kernelspec": {
      "name": "python3",
      "display_name": "Python 3"
    },
    "language_info": {
      "name": "python"
    }
  },
  "cells": [
    {
      "cell_type": "markdown",
      "source": [
        "Μάθημα: **Μηχανική Μάθηση** - Χειμερινό Εξάμηνο 2022-2023"
      ],
      "metadata": {
        "id": "9PxH2mmf6bQI"
      }
    },
    {
      "cell_type": "markdown",
      "source": [
        "1η Σειρά Αναλυτικών Ασκήσεων - Άσκηση 1.1 - Ονοματεπώνυμο: Ειρήνη Δόντη - Α.Μ: 03119839"
      ],
      "metadata": {
        "id": "wIljmMP96Gkf"
      }
    },
    {
      "cell_type": "code",
      "execution_count": null,
      "metadata": {
        "id": "1IPVZAmp2xqr"
      },
      "outputs": [],
      "source": [
        "import pandas as pd\n",
        "import scipy as sc\n",
        "import numpy as np\n",
        "import seaborn as sns\n",
        "import matplotlib.pyplot as plt\n",
        "sns.set()\n",
        "\n",
        "df1=pd.read_csv(\"olympic_teams.csv\") "
      ]
    },
    {
      "cell_type": "code",
      "source": [
        "# x1 sum of athletes, x2 sum of events, y sum of win medals\n",
        "from sklearn import preprocessing\n",
        "import numpy as np\n",
        "x1_array = np.array(df1['athletes'])\n",
        "x2_array = np.array(df1['events'])\n",
        "y_array = np.array(df1['medals'])\n",
        "\n",
        "x1_array = (x1_array - np.mean(x1_array))/(np.std(x1_array))\n",
        "x2_array = (x2_array - np.mean(x2_array))/(np.std(x2_array))\n",
        "y_array = (y_array - np.mean(y_array))/(np.std(y_array))\n"
      ],
      "metadata": {
        "id": "f8en_YcN3gUZ"
      },
      "execution_count": null,
      "outputs": []
    },
    {
      "cell_type": "code",
      "source": [
        "#a\n",
        "from numpy import mean\n",
        "from numpy import std\n",
        "from numpy.random import randn\n",
        "from numpy.random import seed\n",
        "from matplotlib import pyplot\n",
        "c = np.correlate(x1_array,x2_array, 'full')\n",
        "print(c)\n",
        "pyplot.scatter(x1_array, x2_array)\n",
        "pyplot.title(\"Scatterplot for Athletes and Events\")\n",
        "pyplot.show()"
      ],
      "metadata": {
        "colab": {
          "base_uri": "https://localhost:8080/",
          "height": 301
        },
        "id": "ADz0D9Tu6Gt6",
        "outputId": "0ac938fa-b07d-47ba-f339-b072245b279f"
      },
      "execution_count": null,
      "outputs": [
        {
          "output_type": "stream",
          "name": "stdout",
          "text": [
            "[0.25086634 0.56527808 0.79743832 ... 0.79916355 0.52113962 0.20127291]\n"
          ]
        },
        {
          "output_type": "display_data",
          "data": {
            "text/plain": [
              "<Figure size 432x288 with 1 Axes>"
            ],
            "image/png": "[encoded data removed]"
          },
          "metadata": {}
        }
      ]
    },
    {
      "cell_type": "code",
      "source": [
        "#b\n",
        "import numpy as np\n",
        "from sklearn.linear_model import LinearRegression\n",
        "from sklearn.model_selection import train_test_split\n",
        "import matplotlib.pyplot as plt\n",
        "from scipy import stats\n",
        "\n",
        "combinedx12 = np.vstack((x1_array, x2_array)).T\n",
        "x =np.array(combinedx12)\n",
        "y = y_array\n",
        "\n",
        "X_train, X_test, y_train, y_test = train_test_split(x, y, test_size=0.25,  random_state=0)\n",
        "\n",
        "model = LinearRegression()\n",
        "model.fit(X_train, y_train)\n",
        "y_pred_train0 = model.predict(X_train)\n",
        "y_pred_test0 = model.predict(X_test)\n",
        "print(\"y = w0 + w1x1 + w2x2\\n\")\n",
        "w12 = model.coef_\n",
        "print(\"[w1, w2] = \",w12, \"\\n\")\n",
        "\n",
        "w0 = model.intercept_\n",
        "print(\"w0 = \", w0)"
      ],
      "metadata": {
        "colab": {
          "base_uri": "https://localhost:8080/"
        },
        "id": "844pk7FC-XE0",
        "outputId": "09f76e29-54fa-4405-9262-9c6824720d95"
      },
      "execution_count": null,
      "outputs": [
        {
          "output_type": "stream",
          "name": "stdout",
          "text": [
            "y = w0 + w1x1 + w2x2\n",
            "\n",
            "[w1, w2] =  [ 1.91265305 -1.09767984] \n",
            "\n",
            "w0 =  0.00017668439365478962\n"
          ]
        }
      ]
    },
    {
      "cell_type": "code",
      "source": [
        "#c\n",
        "import numpy as np\n",
        "import pandas as pd\n",
        "from sklearn.linear_model import Ridge\n",
        "from sklearn.metrics import mean_squared_error,r2_score\n",
        "from sklearn import model_selection\n",
        "\n",
        "lambda_values = [1,10,100] # l = 1,10,100\n",
        "ridge_model = Ridge()\n",
        "coefficients = []\n",
        "intercepts = []\n",
        "y_pred_train = []\n",
        "y_pred_test = []\n",
        "\n",
        "print(\"y = w0 + w1x1 + w2x2\\n\")\n",
        "for i in lambda_values:\n",
        "    ridge_model.set_params(alpha = i)\n",
        "    ridge_model.fit(X_train, y_train)\n",
        "    coefficients.append(ridge_model.coef_)\n",
        "    y_pred_train.append(ridge_model.predict(X_train))\n",
        "    y_pred_test.append(ridge_model.predict(X_test))\n",
        "    print(\"for lambda=\", i, \": [w1, w2] = \", ridge_model.coef_)\n",
        "    intercepts.append(ridge_model.intercept_)\n",
        "    print(\"w0 = \", ridge_model.intercept_,\"\\n\")\n"
      ],
      "metadata": {
        "colab": {
          "base_uri": "https://localhost:8080/"
        },
        "id": "7_7SIPEzJdGQ",
        "outputId": "a2b29d97-65a7-4c32-ba50-312dd7cc579e"
      },
      "execution_count": null,
      "outputs": [
        {
          "output_type": "stream",
          "name": "stdout",
          "text": [
            "y = w0 + w1x1 + w2x2\n",
            "\n",
            "for lambda= 1 : [w1, w2] =  [ 1.87292946 -1.05814017]\n",
            "w0 =  0.00015810884992075456 \n",
            "\n",
            "for lambda= 10 : [w1, w2] =  [ 1.59128006 -0.77830457]\n",
            "w0 =  2.8340119101693748e-05 \n",
            "\n",
            "for lambda= 100 : [w1, w2] =  [ 0.80213817 -0.0109802 ]\n",
            "w0 =  -0.00027168969031920575 \n",
            "\n"
          ]
        }
      ]
    },
    {
      "cell_type": "code",
      "source": [
        "#d\n",
        "print(\"RMSE for Train set\")\n",
        "#l = 0\n",
        "RMSE = np.sqrt(mean_squared_error(y_train, y_pred_train0))\n",
        "print(\"l = 0:\",RMSE,\"\\n\")\n",
        "# l = 1\n",
        "RMSE = np.sqrt(mean_squared_error(y_train, y_pred_train[0]))\n",
        "print(\"l = 1:\",RMSE,\"\\n\")\n",
        "# l = 10\n",
        "RMSE = np.sqrt(mean_squared_error(y_train, y_pred_train[1]))\n",
        "print(\"l = 10:\",RMSE,\"\\n\")\n",
        "# l = 100\n",
        "RMSE = np.sqrt(mean_squared_error(y_train, y_pred_train[2]))\n",
        "print(\"l = 100:\",RMSE,\"\\n\")\n",
        "\n",
        "print(\"RMSE for Test set\")\n",
        "#l = 0\n",
        "RMSE = np.sqrt(mean_squared_error(y_test, y_pred_test0))\n",
        "print(\"l = 0:\",RMSE,\"\\n\")\n",
        "# l = 1\n",
        "RMSE = np.sqrt(mean_squared_error(y_test, y_pred_test[0]))\n",
        "print(\"l = 1:\",RMSE,\"\\n\")\n",
        "# l = 10\n",
        "RMSE = np.sqrt(mean_squared_error(y_test, y_pred_test[1]))\n",
        "print(\"l = 10:\",RMSE,\"\\n\")\n",
        "# l = 100\n",
        "RMSE = np.sqrt(mean_squared_error(y_test, y_pred_test[2]))\n",
        "print(\"l = 100:\",RMSE,\"\\n\")"
      ],
      "metadata": {
        "colab": {
          "base_uri": "https://localhost:8080/"
        },
        "id": "nJs14EjROFOK",
        "outputId": "290ed3c2-62e4-4051-fefa-f3f54858d5f4"
      },
      "execution_count": null,
      "outputs": [
        {
          "output_type": "stream",
          "name": "stdout",
          "text": [
            "RMSE for Train set\n",
            "l = 0: 0.4965023519466231 \n",
            "\n",
            "l = 1: 0.4965798669939448 \n",
            "\n",
            "l = 10: 0.5015450834526199 \n",
            "\n",
            "l = 100: 0.5534412988534566 \n",
            "\n",
            "RMSE for Test set\n",
            "l = 0: 0.4760136237516071 \n",
            "\n",
            "l = 1: 0.47565112079642224 \n",
            "\n",
            "l = 10: 0.4769140256764647 \n",
            "\n",
            "l = 100: 0.5142340351600714 \n",
            "\n"
          ]
        }
      ]
    }
  ]
}