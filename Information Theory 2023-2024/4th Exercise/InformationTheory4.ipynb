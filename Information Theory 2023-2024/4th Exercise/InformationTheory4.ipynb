{
  "nbformat": 4,
  "nbformat_minor": 0,
  "metadata": {
    "colab": {
      "provenance": []
    },
    "kernelspec": {
      "name": "python3",
      "display_name": "Python 3"
    },
    "language_info": {
      "name": "python"
    }
  },
  "cells": [
    {
      "cell_type": "markdown",
      "source": [
        "# Θεωρία Πληροφορίας - 9ο Εξάμηνο"
      ],
      "metadata": {
        "id": "BpiJo7gYNbKU"
      }
    },
    {
      "cell_type": "markdown",
      "source": [
        "## 4η Σειρά Ασκήσεων 2023 - 2024"
      ],
      "metadata": {
        "id": "Joj_xxCcNebo"
      }
    },
    {
      "cell_type": "markdown",
      "source": [
        "Ονοματεπώνυμο: Ειρήνη Δόντη\n",
        "\n",
        "Α.Μ.: 03119839"
      ],
      "metadata": {
        "id": "_fH1SDPPNhGx"
      }
    },
    {
      "cell_type": "markdown",
      "source": [
        "### Άσκηση 1"
      ],
      "metadata": {
        "id": "tp24FsqpNoW7"
      }
    },
    {
      "cell_type": "markdown",
      "source": [
        "1."
      ],
      "metadata": {
        "id": "XkYK8xICh09S"
      }
    },
    {
      "cell_type": "code",
      "source": [
        "from math import log\n",
        "\n",
        "probs = [0.4, 0.3, 0.2, 0.05, 0.05]\n",
        "H_x = round(-sum(i*log(i,2) for i in probs),4)\n",
        "print(f\"H(X) = {H_x} bits\")"
      ],
      "metadata": {
        "colab": {
          "base_uri": "https://localhost:8080/"
        },
        "id": "6GjCPG6Chtkl",
        "outputId": "b52a0418-cb63-4a6b-f22d-24cec4da0d03"
      },
      "execution_count": 28,
      "outputs": [
        {
          "output_type": "stream",
          "name": "stdout",
          "text": [
            "H(X) = 1.9464 bits\n"
          ]
        }
      ]
    },
    {
      "cell_type": "markdown",
      "source": [
        "2."
      ],
      "metadata": {
        "id": "qIFPb484ik1M"
      }
    },
    {
      "cell_type": "code",
      "source": [
        "#a\n",
        "\n",
        "code = [\"1\", \"01\", \"101\", \"0010\", \"0001\"]\n",
        "expected_len = round(sum(len(code[i])*probs[i] for i in range(len(code))),4)\n",
        "print(f\"Expected length: {expected_len}\")\n"
      ],
      "metadata": {
        "colab": {
          "base_uri": "https://localhost:8080/"
        },
        "id": "fEpOXWbrilbB",
        "outputId": "cf690b9f-f2ce-40d3-de0d-3339fa82b427"
      },
      "execution_count": 29,
      "outputs": [
        {
          "output_type": "stream",
          "name": "stdout",
          "text": [
            "Expected length: 2.0\n"
          ]
        }
      ]
    },
    {
      "cell_type": "markdown",
      "source": [
        "3."
      ],
      "metadata": {
        "id": "5kWFtOcMinvs"
      }
    },
    {
      "cell_type": "code",
      "source": [
        "def kraft_inequality(code, alphabet_size):\n",
        "    s = sum(alphabet_size**-len(i) for i in code)\n",
        "    print(s)\n",
        "    return s<1"
      ],
      "metadata": {
        "id": "M3gVP2h6u_9V"
      },
      "execution_count": 30,
      "outputs": []
    },
    {
      "cell_type": "code",
      "source": [
        "#a\n",
        "code = [\"000\", \"001\", \"010\", \"011\", \"100\"]\n",
        "\n",
        "print(kraft_inequality(code, 2))\n",
        "\n",
        "#d\n",
        "expected_len = round(sum(len(code[i])*probs[i] for i in range(len(code))),4)\n",
        "print(f\"Expected length of new code: {expected_len}\")"
      ],
      "metadata": {
        "colab": {
          "base_uri": "https://localhost:8080/"
        },
        "id": "5pdld3GTipuG",
        "outputId": "a04e65af-96ca-4acc-9b34-ede49e97f57f"
      },
      "execution_count": 31,
      "outputs": [
        {
          "output_type": "stream",
          "name": "stdout",
          "text": [
            "0.625\n",
            "True\n",
            "Expected length of new code: 3.0\n"
          ]
        }
      ]
    },
    {
      "cell_type": "markdown",
      "source": [
        "4."
      ],
      "metadata": {
        "id": "oGymUwfBwL-N"
      }
    },
    {
      "cell_type": "code",
      "source": [
        "#a\n",
        "code = [\"1\", \"01\", \"000\", \"0011\", \"00101\"]\n",
        "def kraft_inequality(code, alphabet_size):\n",
        "    s = sum(alphabet_size**-len(i) for i in code)\n",
        "    print(s)\n",
        "    return s<1\n",
        "\n",
        "print(kraft_inequality(code, 2))\n",
        "\n",
        "#d\n",
        "expected_len = round(sum(len(code[i])*probs[i] for i in range(len(code))),4)\n",
        "print(f\"Expected length of new code: {expected_len}\")"
      ],
      "metadata": {
        "colab": {
          "base_uri": "https://localhost:8080/"
        },
        "id": "9nrTi6mKwLW2",
        "outputId": "1ced72ce-0086-452c-d21f-0cacd84d93c5"
      },
      "execution_count": 32,
      "outputs": [
        {
          "output_type": "stream",
          "name": "stdout",
          "text": [
            "0.96875\n",
            "True\n",
            "Expected length of new code: 2.05\n"
          ]
        }
      ]
    },
    {
      "cell_type": "markdown",
      "source": [
        "5."
      ],
      "metadata": {
        "id": "ow4mSOcmirk1"
      }
    },
    {
      "cell_type": "code",
      "source": [
        "code = [\"1\", \"01\", \"000\", \"0010\", \"0011\"]\n",
        "expected_len = round(sum(len(code[i])*probs[i] for i in range(len(code))),4)\n",
        "print(f\"Expected length of new code: {expected_len}\")"
      ],
      "metadata": {
        "colab": {
          "base_uri": "https://localhost:8080/"
        },
        "id": "NWKHS-ZoisbV",
        "outputId": "728a1f49-587f-4780-a8a3-b8dea9d5cc37"
      },
      "execution_count": 33,
      "outputs": [
        {
          "output_type": "stream",
          "name": "stdout",
          "text": [
            "Expected length of new code: 2.0\n"
          ]
        }
      ]
    },
    {
      "cell_type": "markdown",
      "source": [
        "### Άσκηση 2"
      ],
      "metadata": {
        "id": "cTLZQn31NceO"
      }
    },
    {
      "cell_type": "markdown",
      "source": [
        "1."
      ],
      "metadata": {
        "id": "mjExrIlkxuSM"
      }
    },
    {
      "cell_type": "code",
      "source": [
        "code = [\"0\", \"10\", \"11001\", \"11110\", \"11100\", \"11111\"]\n",
        "\n",
        "def kraft_inequality(code, alphabet_size):\n",
        "    s = sum(alphabet_size**-len(i) for i in code)\n",
        "    print(s)\n",
        "    return s<1\n",
        "\n",
        "print(kraft_inequality(code, 2))"
      ],
      "metadata": {
        "colab": {
          "base_uri": "https://localhost:8080/"
        },
        "id": "Z8EFR0dublbH",
        "outputId": "1e22c435-50f1-41a6-db37-4a3e634fadf2"
      },
      "execution_count": 35,
      "outputs": [
        {
          "output_type": "stream",
          "name": "stdout",
          "text": [
            "0.875\n",
            "True\n"
          ]
        }
      ]
    },
    {
      "cell_type": "markdown",
      "source": [
        "2."
      ],
      "metadata": {
        "id": "Wap0lBDvvQQH"
      }
    },
    {
      "cell_type": "code",
      "source": [
        "code = [\"0\", \"10\", \"1111\", \"11110\", \"11101\",\"11111\"]\n",
        "\n",
        "def kraft_inequality(code, alphabet_size):\n",
        "    s = sum(alphabet_size**-len(i) for i in code)\n",
        "    print(s)\n",
        "    return s<1\n",
        "\n",
        "print(kraft_inequality(code, 2))\n"
      ],
      "metadata": {
        "colab": {
          "base_uri": "https://localhost:8080/"
        },
        "id": "x6VTrB5svLQB",
        "outputId": "e711930f-4942-4b21-c0f3-efdc02f49dc9"
      },
      "execution_count": 36,
      "outputs": [
        {
          "output_type": "stream",
          "name": "stdout",
          "text": [
            "0.90625\n",
            "True\n"
          ]
        }
      ]
    },
    {
      "cell_type": "markdown",
      "source": [
        "### Άσκηση 3"
      ],
      "metadata": {
        "id": "vOj8ICNexrRb"
      }
    },
    {
      "cell_type": "markdown",
      "source": [
        "1."
      ],
      "metadata": {
        "id": "ZZJSkd9Vh10c"
      }
    },
    {
      "cell_type": "code",
      "source": [
        "from math import log\n",
        "\n",
        "code = [\"1\", \"000\", \"011\", \"0010\", \"0011\", \"0100\", \"01010\", \"01011\"]\n",
        "probs = [0.4, 0.2, 0.11, 0.09, 0.08, 0.07, 0.03, 0.02]\n",
        "expected_len = round(sum(len(code[i])*probs[i] for i in range(len(code))),4)\n",
        "print(f\"Expected length of Huffman code: {expected_len}\")\n",
        "H_x = round(-sum(i*log(i,2) for i in probs),4)\n",
        "print(f\"H(X) = {H_x} bits\")"
      ],
      "metadata": {
        "colab": {
          "base_uri": "https://localhost:8080/"
        },
        "id": "DeczjmwBh2Pa",
        "outputId": "0a9842f1-8f58-4843-c5bc-5415618c3273"
      },
      "execution_count": 37,
      "outputs": [
        {
          "output_type": "stream",
          "name": "stdout",
          "text": [
            "Expected length of Huffman code: 2.54\n",
            "H(X) = 2.4808 bits\n"
          ]
        }
      ]
    },
    {
      "cell_type": "markdown",
      "source": [
        "2."
      ],
      "metadata": {
        "id": "DIa02jSS1s27"
      }
    },
    {
      "cell_type": "code",
      "source": [
        "from math import log\n",
        "\n",
        "code = [\"0\", \"2\", \"11\", \"12\", \"100\", \"101\", \"1020\", \"1021\"]\n",
        "probs = [0.4, 0.2, 0.11, 0.09, 0.08, 0.07, 0.03, 0.02]\n",
        "expected_len = round(sum(len(code[i])*probs[i] for i in range(len(code))),4)\n",
        "print(f\"Expected length of Huffman code: {expected_len}\")\n",
        "H_x = round(-sum(i*log(i,3) for i in probs),4)\n",
        "print(f\"H(X) = {H_x} bits\")"
      ],
      "metadata": {
        "colab": {
          "base_uri": "https://localhost:8080/"
        },
        "id": "CY_47EkB1rvD",
        "outputId": "091ee6af-333c-46b9-e87f-4036e1930b6e"
      },
      "execution_count": 38,
      "outputs": [
        {
          "output_type": "stream",
          "name": "stdout",
          "text": [
            "Expected length of Huffman code: 1.65\n",
            "H(X) = 1.5652 bits\n"
          ]
        }
      ]
    }
  ]
}