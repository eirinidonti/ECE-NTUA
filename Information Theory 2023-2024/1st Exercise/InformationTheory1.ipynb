{
  "nbformat": 4,
  "nbformat_minor": 0,
  "metadata": {
    "colab": {
      "provenance": []
    },
    "kernelspec": {
      "name": "python3",
      "display_name": "Python 3"
    },
    "language_info": {
      "name": "python"
    }
  },
  "cells": [
    {
      "cell_type": "markdown",
      "source": [
        "# Θεωρία Πληροφορίας - 9ο Εξάμηνο"
      ],
      "metadata": {
        "id": "7ZOT0nM0UHH8"
      }
    },
    {
      "cell_type": "markdown",
      "source": [
        "## 1η Σειρά Ασκήσεων 2023 - 2024"
      ],
      "metadata": {
        "id": "iULcNZLEUbWW"
      }
    },
    {
      "cell_type": "markdown",
      "source": [
        "Ονοματεπώνυμο: Ειρήνη Δόντη\n",
        "\n",
        "Α.Μ.: 03119839"
      ],
      "metadata": {
        "id": "ZhC7r6HCUQ9f"
      }
    },
    {
      "cell_type": "markdown",
      "source": [
        "### Άσκηση 1"
      ],
      "metadata": {
        "id": "nriFeOT93yIW"
      }
    },
    {
      "cell_type": "code",
      "source": [
        "from math import log\n",
        "import matplotlib.pyplot as plt"
      ],
      "metadata": {
        "id": "CTvqFVlx-Ckp"
      },
      "execution_count": 15,
      "outputs": []
    },
    {
      "cell_type": "code",
      "source": [
        "results = []  #store the results\n",
        "\n",
        "# Define a range of N values\n",
        "N_values = range(1, 11)  # For example, from N=1 to N=10\n",
        "\n",
        "for N in N_values:\n",
        "    # Calculate the sum\n",
        "    sum_result = sum((3/4)**k for k in range(1, N+1))\n",
        "    # Calculate the final result\n",
        "    result = 1 / sum_result\n",
        "    # Append the result to the list\n",
        "    results.append((N, result))\n",
        "\n",
        "# Print or save the results as needed\n",
        "print(\"(N, AN) values:\", results)\n",
        "\n",
        "# save entropies\n",
        "entropies = []\n",
        "\n",
        "# Entropy for each N\n",
        "for N in range(1, 11):\n",
        "    AN = results[N-1][1]\n",
        "    #print(AN)\n",
        "    entropy = 0.0\n",
        "\n",
        "    for k in range(1, N+1):\n",
        "        probability = AN * (3/4)**k\n",
        "        #print(k, AN)\n",
        "        entropy -= probability * log(probability,2)\n",
        "\n",
        "    entropies.append(entropy)\n",
        "# print result\n",
        "for N, entropy in zip(range(1, 11), entropies):\n",
        "    print(f\"N={N}: H(X{N}) = {entropy:.4f}\")\n"
      ],
      "metadata": {
        "colab": {
          "base_uri": "https://localhost:8080/"
        },
        "id": "sbKI639M31DW",
        "outputId": "ea2a9eec-56f9-4f6e-824d-9b5baedc04e9"
      },
      "execution_count": 26,
      "outputs": [
        {
          "output_type": "stream",
          "name": "stdout",
          "text": [
            "(N, AN) values: [(1, 1.3333333333333333), (2, 0.7619047619047619), (3, 0.5765765765765766), (4, 0.4876190476190476), (5, 0.4370465215535638), (6, 0.40550440550440553), (7, 0.38468220985654245), (8, 0.3704168432951816), (9, 0.3603933553574939), (10, 0.35322465514668455)]\n",
            "N=1: H(X1) = 0.0000\n",
            "N=2: H(X2) = 0.9852\n",
            "N=3: H(X3) = 1.5460\n",
            "N=4: H(X4) = 1.9279\n",
            "N=5: H(X5) = 2.2086\n",
            "N=6: H(X6) = 2.4232\n",
            "N=7: H(X7) = 2.5909\n",
            "N=8: H(X8) = 2.7235\n",
            "N=9: H(X9) = 2.8293\n",
            "N=10: H(X10) = 2.9138\n"
          ]
        }
      ]
    },
    {
      "cell_type": "code",
      "source": [
        "# Make plot of H(XN) as a function of N\n",
        "plt.plot(range(1, 11), entropies, marker='o', linestyle='-', color = 'c')\n",
        "plt.xlabel('N')\n",
        "plt.ylabel('H(XN)')\n",
        "plt.title('Entropy H(XN) as a Function of N')\n",
        "plt.grid(True)\n",
        "\n",
        "# show plot\n",
        "plt.show()"
      ],
      "metadata": {
        "colab": {
          "base_uri": "https://localhost:8080/",
          "height": 472
        },
        "id": "BHeb72Ic9xB5",
        "outputId": "eda1267a-df0b-40b9-cddb-3d39143c2eae"
      },
      "execution_count": 21,
      "outputs": [
        {
          "output_type": "display_data",
          "data": {
            "text/plain": [
              "<Figure size 640x480 with 1 Axes>"
            ],
            "image/png": "[encoded data removed]"
          },
          "metadata": {}
        }
      ]
    },
    {
      "cell_type": "markdown",
      "source": [
        "### Άσκηση 2"
      ],
      "metadata": {
        "id": "eo-NbXvNUnA-"
      }
    },
    {
      "cell_type": "markdown",
      "source": [
        "1."
      ],
      "metadata": {
        "id": "pMNhKqArUw0-"
      }
    },
    {
      "cell_type": "code",
      "source": [
        "from math import log\n",
        "from itertools import product"
      ],
      "metadata": {
        "id": "lmZtLkQ3VReN"
      },
      "execution_count": null,
      "outputs": []
    },
    {
      "cell_type": "code",
      "source": [
        "# Calculate normalization factor A\n",
        "k = list(product([i for i in range(1,6)],[i for i in range(1,6)]))\n",
        "s = sum([(3/5)**(x)+(2/5)**(y)+(1/4)**(x+y) for (x,y) in k if not(x == 2 and y == 5) or not(x == 3 and y == 5) or not(x == 4 and y == 5)])\n",
        "A = 1/(s)\n",
        "print(\"Α =\", A)"
      ],
      "metadata": {
        "colab": {
          "base_uri": "https://localhost:8080/"
        },
        "id": "0CqdMweSUmMG",
        "outputId": "98ff89b8-0eb0-46ba-b652-b4efc69b4726"
      },
      "execution_count": null,
      "outputs": [
        {
          "output_type": "stream",
          "name": "stdout",
          "text": [
            "Α = 0.09683453517820313\n"
          ]
        }
      ]
    },
    {
      "cell_type": "markdown",
      "source": [
        "2."
      ],
      "metadata": {
        "id": "CADIVSQNXyVd"
      }
    },
    {
      "cell_type": "code",
      "source": [
        "# Calculate Joint Entropy H(X,Y)\n",
        "k = list(product([i for i in range(1,6)],[i for i in range(1,6)]))\n",
        "s = [-A*((3/5)**(x)+(2/5)**(y)+(1/4)**(x+y))*log(A*((3/5)**(x)+(2/5)**(y)+(1/4)**(x+y)), 2) for (x,y) in k]\n",
        "H_xy = sum(s)\n",
        "print(\"H(X,Y) =\", H_xy)"
      ],
      "metadata": {
        "colab": {
          "base_uri": "https://localhost:8080/"
        },
        "id": "Hu2uX3AyXxfh",
        "outputId": "2e67b67c-b273-4c81-d5a2-097bc0d3ed58"
      },
      "execution_count": null,
      "outputs": [
        {
          "output_type": "stream",
          "name": "stdout",
          "text": [
            "H(X,Y) = 4.392149520490423\n"
          ]
        }
      ]
    },
    {
      "cell_type": "markdown",
      "source": [
        "3."
      ],
      "metadata": {
        "id": "2pjvGks2aB1S"
      }
    },
    {
      "cell_type": "code",
      "source": [
        "# Calculate the probability Pr{X=x} for x in [1,2,3,4,5] by summing over all possible values of y for a given y\n",
        "Prx_1 = sum([A*((3/5)**(1)+(2/5)**(y)+(1/4)**(1+y)) for y in range(1,6)])\n",
        "Prx_2 = sum([A*((3/5)**(2)+(2/5)**(y)+(1/4)**(2+y)) for y in range(1,6)])\n",
        "Prx_3 = sum([A*((3/5)**(3)+(2/5)**(y)+(1/4)**(3+y)) for y in range(1,6)])\n",
        "Prx_4 = sum([A*((3/5)**(4)+(2/5)**(y)+(1/4)**(4+y)) for y in range(1,6)])\n",
        "Prx_5 = sum([A*((3/5)**(5)+(2/5)**(y)+(1/4)**(5+y)) for y in range(1,6)])\n",
        "\n",
        "X_Probabilites = [Prx_1, Prx_2, Prx_3, Prx_4, Prx_5]\n",
        "for r in range(1,6):\n",
        "  print(\"Pr{ X =\",r,\"} =\", X_Probabilites[r-1])\n",
        "# Calculate the probability Pr{Y=y} for Y in [1,2,3,4,5] by summing over all possible values of x for a given y\n",
        "\n",
        "Pry_1 = sum([A*((3/5)**(x)+(2/5)**(1)+(1/4)**(x+1)) for x in range(1,6)])\n",
        "Pry_2 = sum([A*((3/5)**(x)+(2/5)**(2)+(1/4)**(x+2)) for x in range(1,6)])\n",
        "Pry_3 = sum([A*((3/5)**(x)+(2/5)**(3)+(1/4)**(x+3)) for x in range(1,6)])\n",
        "Pry_4 = sum([A*((3/5)**(x)+(2/5)**(4)+(1/4)**(x+4)) for x in range(1,6)])\n",
        "Pry_5 = sum([A*((3/5)**(x)+(2/5)**(5)+(1/4)**(x+5)) for x in range(1,6)])\n",
        "\n",
        "Y_Probabilites = [Pry_1, Pry_2, Pry_3, Pry_4, Pry_5]\n",
        "for r in range(1,6):\n",
        "  print(\"Pr{ Y =\",r,\"} =\", Y_Probabilites[r-1])\n",
        "\n",
        "# Calculate entropy for x\n",
        "Hx = -1*sum([i*log(i,2) for i in X_Probabilites])\n",
        "print(f\"H(X) = {Hx}\")\n",
        "\n",
        "# Calculate entropy for y\n",
        "Hy = -1*sum([i*log(i,2) for i in Y_Probabilites])\n",
        "print(f\"H(Y) = {Hy}\")"
      ],
      "metadata": {
        "colab": {
          "base_uri": "https://localhost:8080/"
        },
        "id": "jOTDl9XXaCyv",
        "outputId": "42c49ecc-2bdf-4ef4-fe6b-aa471078f56d"
      },
      "execution_count": null,
      "outputs": [
        {
          "output_type": "stream",
          "name": "stdout",
          "text": [
            "Pr{ X = 1 } = 0.3624605694101319\n",
            "Pr{ X = 2 } = 0.24021287905863542\n",
            "Pr{ X = 3 } = 0.168980451695916\n",
            "Pr{ X = 4 } = 0.12677004199032896\n",
            "Pr{ X = 5 } = 0.10157605784498788\n",
            "Pr{ Y = 1 } = 0.3356877571240623\n",
            "Pr{ Y = 2 } = 0.21344006677256583\n",
            "Pr{ Y = 3 } = 0.16544792785261514\n",
            "Pr{ Y = 4 } = 0.14647780658979684\n",
            "Pr{ Y = 5 } = 0.13894644166096\n",
            "H(X) = 2.171267752715971\n",
            "H(Y) = 2.2351995484883362\n"
          ]
        }
      ]
    },
    {
      "cell_type": "markdown",
      "source": [
        "4."
      ],
      "metadata": {
        "id": "LfE5kpztiuf_"
      }
    },
    {
      "cell_type": "code",
      "source": [
        "# Calculate the relative entropy D(px(x)||py(x)) and D(py(x)||px(x))\n",
        "s = 0\n",
        "for i in range(5):\n",
        "    s += X_Probabilites[i]*(log((X_Probabilites[i]/Y_Probabilites[i]),2))\n",
        "print(f\"D(px(x)||py(x)) = {s}\")\n",
        "\n",
        "s = 0\n",
        "for i in range(5):\n",
        "    s += Y_Probabilites[i]*(log((Y_Probabilites[i]/X_Probabilites[i]),2))\n",
        "\n",
        "print(f\"D(px(x)||py(x)) = {s}\")\n"
      ],
      "metadata": {
        "colab": {
          "base_uri": "https://localhost:8080/"
        },
        "id": "PTpU94I4ivah",
        "outputId": "bdc48681-f3fe-478c-9a0b-c19ac2fe3dd4"
      },
      "execution_count": null,
      "outputs": [
        {
          "output_type": "stream",
          "name": "stdout",
          "text": [
            "D(px(x)||py(x)) = 0.013891644314934691\n",
            "D(px(x)||py(x)) = 0.014742859818293638\n"
          ]
        }
      ]
    },
    {
      "cell_type": "markdown",
      "source": [
        "5."
      ],
      "metadata": {
        "id": "eitgNFCEkIL2"
      }
    },
    {
      "cell_type": "code",
      "source": [
        "Hx_given_y = []\n",
        "\n",
        "s = 0\n",
        "for i in range(5):\n",
        "    prob = A*((3/5)**(i+1)+(2/5)**(1)+(1/4)**(i+1+1))/Y_Probabilites[0]\n",
        "    s -= prob*log(prob,2)\n",
        "print(f\"H(X|Y=1) = {s}\")\n",
        "Hx_given_y.append(s)\n",
        "\n",
        "s = 0\n",
        "for i in range(5):\n",
        "    prob = A*((3/5)**(i+1)+(2/5)**(2)+(1/4)**(i+1+2))/Y_Probabilites[1]\n",
        "    s -= prob*log(prob,2)\n",
        "print(f\"H(X|Y=2) = {s}\")\n",
        "Hx_given_y.append(s)\n",
        "\n",
        "s = 0\n",
        "for i in range(5):\n",
        "    prob =A*((3/5)**(i+1)+(2/5)**(3)+(1/4)**(i+1+3))/Y_Probabilites[2]\n",
        "    s -= prob*log(prob,2)\n",
        "print(f\"H(X|Y=3) = {s}\")\n",
        "Hx_given_y.append(s)\n",
        "\n",
        "s = 0\n",
        "for i in range(5):\n",
        "    prob = A*((3/5)**(i+1)+(2/5)**(4)+(1/4)**(i+1+4))/Y_Probabilites[3]\n",
        "    s -= prob*log(prob,2)\n",
        "print(f\"H(X|Y=4) = {s}\")\n",
        "Hx_given_y.append(s)\n",
        "\n",
        "s = 0\n",
        "for i in range(5):\n",
        "    prob = A*((3/5)**(i+1)+(2/5)**(5)+(1/4)**(i+1+5))/Y_Probabilites[4]\n",
        "    s -= prob*log(prob,2)\n",
        "print(f\"H(X|Y=5) = {s}\")\n",
        "Hx_given_y.append(s)"
      ],
      "metadata": {
        "colab": {
          "base_uri": "https://localhost:8080/"
        },
        "id": "uZ-_-ScOkJV8",
        "outputId": "854db606-1881-44ec-dc2c-1c73c1f7608d"
      },
      "execution_count": null,
      "outputs": [
        {
          "output_type": "stream",
          "name": "stdout",
          "text": [
            "H(X|Y=1) = 2.258885945769888\n",
            "H(X|Y=2) = 2.190123158221156\n",
            "H(X|Y=3) = 2.1108161511032013\n",
            "H(X|Y=4) = 2.0537603499484893\n",
            "H(X|Y=5) = 2.023435139298353\n"
          ]
        }
      ]
    },
    {
      "cell_type": "markdown",
      "source": [
        "6."
      ],
      "metadata": {
        "id": "hCjPhFUpoRaP"
      }
    },
    {
      "cell_type": "code",
      "source": [
        "# Since we already know H(X|Y=y) for all yeY, we can simply sum over x for xeX and calculate H(x|Y)=Sum(p(y)H(X|Y))\n",
        "\n",
        "s = 0\n",
        "for i in range(5):\n",
        "    s += Y_Probabilites[i]*Hx_given_y[i]\n",
        "print(f\"H(X|Y) = {s}\")\n",
        "\n",
        "# H(X,Y) = H(X)+H(Y|x) ->\n",
        "s = H_xy - Hx\n",
        "print(f\"H(Y|X) = {s}\")"
      ],
      "metadata": {
        "colab": {
          "base_uri": "https://localhost:8080/"
        },
        "id": "gGl8DtUZoSbS",
        "outputId": "f2be443a-de30-4b4d-b5b5-b48d71858401"
      },
      "execution_count": null,
      "outputs": [
        {
          "output_type": "stream",
          "name": "stdout",
          "text": [
            "H(X|Y) = 2.156949972002087\n",
            "H(Y|X) = 2.220881767774452\n"
          ]
        }
      ]
    },
    {
      "cell_type": "markdown",
      "source": [
        "7."
      ],
      "metadata": {
        "id": "lSyjlNptoSmf"
      }
    },
    {
      "cell_type": "code",
      "source": [
        "# I(X;Y) = H(Y) - H(Y|X) = H(X) + H(Y) - H(X,Y)\n",
        "\n",
        "mutual_info = Hx + Hy - H_xy\n",
        "print(f\"I(X;Y) = {mutual_info}\")"
      ],
      "metadata": {
        "colab": {
          "base_uri": "https://localhost:8080/"
        },
        "id": "8Ejwjwx0oTSB",
        "outputId": "639daeb4-8ea3-4f25-ccf7-345a186a046c"
      },
      "execution_count": null,
      "outputs": [
        {
          "output_type": "stream",
          "name": "stdout",
          "text": [
            "I(X;Y) = 0.014317780713883899\n"
          ]
        }
      ]
    },
    {
      "cell_type": "markdown",
      "source": [
        "### Άσκηση 3"
      ],
      "metadata": {
        "id": "k56Y2im_sSWr"
      }
    },
    {
      "cell_type": "code",
      "source": [
        "from math import log\n",
        "\n",
        "#1\n",
        "h1 = -51*(1/51)*log(1/51,2)\n",
        "print(\"1. H1(x)= \", h1)\n",
        "\n",
        "#2\n",
        "h2 = -(1/51)*log(1/51,2) -51*(50/(51*51))*log(50/(51*51),2)\n",
        "print(\"2. H2(x)= \", h2)"
      ],
      "metadata": {
        "id": "z2fEtVAJsXnK",
        "colab": {
          "base_uri": "https://localhost:8080/"
        },
        "outputId": "6df1bbcc-7fcd-4c65-d8ef-4ba02855d2e8"
      },
      "execution_count": null,
      "outputs": [
        {
          "output_type": "stream",
          "name": "stdout",
          "text": [
            "1. H1(x)=  5.672425341971496\n",
            "2. H2(x)=  5.700434314713428\n"
          ]
        }
      ]
    }
  ]
}