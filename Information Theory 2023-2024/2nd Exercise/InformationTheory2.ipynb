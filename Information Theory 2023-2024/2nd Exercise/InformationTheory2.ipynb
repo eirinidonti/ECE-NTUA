{
  "nbformat": 4,
  "nbformat_minor": 0,
  "metadata": {
    "colab": {
      "provenance": []
    },
    "kernelspec": {
      "name": "python3",
      "display_name": "Python 3"
    },
    "language_info": {
      "name": "python"
    }
  },
  "cells": [
    {
      "cell_type": "markdown",
      "source": [
        "# Θεωρία Πληροφορίας - 9ο Εξάμηνο"
      ],
      "metadata": {
        "id": "BpiJo7gYNbKU"
      }
    },
    {
      "cell_type": "markdown",
      "source": [
        "## 2η Σειρά Ασκήσεων 2023 - 2024"
      ],
      "metadata": {
        "id": "Joj_xxCcNebo"
      }
    },
    {
      "cell_type": "markdown",
      "source": [
        "Ονοματεπώνυμο: Ειρήνη Δόντη\n",
        "\n",
        "Α.Μ.: 03119839"
      ],
      "metadata": {
        "id": "_fH1SDPPNhGx"
      }
    },
    {
      "cell_type": "markdown",
      "source": [
        "### Άσκηση 1"
      ],
      "metadata": {
        "id": "tp24FsqpNoW7"
      }
    },
    {
      "cell_type": "markdown",
      "source": [
        "1."
      ],
      "metadata": {
        "id": "47MdpIVaO_lf"
      }
    },
    {
      "cell_type": "code",
      "source": [
        "from math import log, comb\n",
        "\n",
        "p = 0.1\n",
        "H_x = -p*log(p,2) - (1-p)*log(1-p,2)\n",
        "print(\"H(x) =\",H_x)\n",
        "\n",
        "lowlimit = 2**(-200*(0.469+0.1))\n",
        "uplimit = 2**(-200*(0.469-0.1))\n",
        "ones_typical_set = [k for k in range(201) if lowlimit <= ((1-p)**(200-k))*p**k <= uplimit]\n",
        "print(f\"num of 1s that sequence is in typical set: [{ones_typical_set[0]},{ones_typical_set[-1]}]\")"
      ],
      "metadata": {
        "id": "oNNONcQtO8go",
        "colab": {
          "base_uri": "https://localhost:8080/"
        },
        "outputId": "1b2d4c3f-5a93-4609-b488-13c5f64216e4"
      },
      "execution_count": 17,
      "outputs": [
        {
          "output_type": "stream",
          "name": "stdout",
          "text": [
            "H(x) = 0.4689955935892812\n",
            "num of 1s that sequence is in typical set: [14,26]\n"
          ]
        }
      ]
    },
    {
      "cell_type": "markdown",
      "source": [
        "2."
      ],
      "metadata": {
        "id": "RSgoZAm-PBZP"
      }
    },
    {
      "cell_type": "code",
      "execution_count": 18,
      "metadata": {
        "id": "3JHAxo7AM5OL",
        "colab": {
          "base_uri": "https://localhost:8080/"
        },
        "outputId": "955713c1-6c57-4357-e12c-0068f4235286"
      },
      "outputs": [
        {
          "output_type": "stream",
          "name": "stdout",
          "text": [
            "percentage of sequences in typical set to all sequences: 2.221524186196646e-28\n"
          ]
        }
      ],
      "source": [
        "s = 0\n",
        "least_ones = ones_typical_set[0]\n",
        "max_ones = ones_typical_set[-1]\n",
        "for k in range(least_ones, max_ones+1):\n",
        "    s += comb(200, k)\n",
        "pcnt = s/pow(2,200)\n",
        "print(f\"percentage of sequences in typical set to all sequences: {pcnt}\")"
      ]
    },
    {
      "cell_type": "markdown",
      "source": [
        "3."
      ],
      "metadata": {
        "id": "_kPVLeVJRAnX"
      }
    },
    {
      "cell_type": "code",
      "source": [
        "#Probability of the given typical set\n",
        "typical_set_pr = 0\n",
        "for k in range(least_ones, max_ones+1):\n",
        "    typical_set_pr += comb(200, k)*pow(p,k)*pow(1-p,200-k)\n",
        "typical_set_pr = round(typical_set_pr, 4)\n",
        "print(f\"Probability of typical set: {typical_set_pr}\")"
      ],
      "metadata": {
        "id": "YAJRg5M6Q_4j",
        "colab": {
          "base_uri": "https://localhost:8080/"
        },
        "outputId": "3a4e4ca2-48e7-4088-94b0-a1032530ffd5"
      },
      "execution_count": 19,
      "outputs": [
        {
          "output_type": "stream",
          "name": "stdout",
          "text": [
            "Probability of typical set: 0.8762\n"
          ]
        }
      ]
    },
    {
      "cell_type": "markdown",
      "source": [
        "### Άσκηση 2"
      ],
      "metadata": {
        "id": "cTLZQn31NceO"
      }
    },
    {
      "cell_type": "markdown",
      "source": [
        "4."
      ],
      "metadata": {
        "id": "947p2vg0RFO7"
      }
    },
    {
      "cell_type": "code",
      "source": [
        "from math import log, comb\n",
        "\n",
        "def get_probability_for_k_n(k,n):\n",
        "    p = 0.1\n",
        "    return comb(n,k)*pow(p,k)*pow(1-p, n-k)\n",
        "\n",
        "def check_k(k,n):\n",
        "    err = 1/2\n",
        "    p = 0.1\n",
        "    H = -p*log(p,2) - (1-p)*log(1-p,2)\n",
        "    val = ((-1/n) * (k*log(p,2) + (n-k)* log(1-p,2))) - H\n",
        "    return abs(val) > err\n",
        "\n",
        "#n = 20\n",
        "\n",
        "s = 0\n",
        "n = 20\n",
        "for k in range(n+1):\n",
        "      if check_k(k,n):\n",
        "         s += get_probability_for_k_n(k,n)\n",
        "print(f\"for n: {n}, probability: {round(s,4)}\")\n",
        "\n",
        "#n = 40\n",
        "\n",
        "s = 0\n",
        "n = 40\n",
        "for k in range(n+1):\n",
        "      if check_k(k,n):\n",
        "         s += get_probability_for_k_n(k,n)\n",
        "print(f\"for n: {n}, probability: {round(s,4)}\")"
      ],
      "metadata": {
        "id": "nUatXa0hNurm",
        "colab": {
          "base_uri": "https://localhost:8080/"
        },
        "outputId": "39fff471-02f1-4247-8d70-865256753197"
      },
      "execution_count": 20,
      "outputs": [
        {
          "output_type": "stream",
          "name": "stdout",
          "text": [
            "for n: 20, probability: 0.0113\n",
            "for n: 40, probability: 0.0015\n"
          ]
        }
      ]
    }
  ]
}